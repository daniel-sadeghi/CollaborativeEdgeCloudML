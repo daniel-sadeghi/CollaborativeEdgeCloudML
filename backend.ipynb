{
 "cells": [
  {
   "cell_type": "code",
   "execution_count": 1,
   "metadata": {},
   "outputs": [
    {
     "name": "stdout",
     "output_type": "stream",
     "text": [
      " * Serving Flask app '__main__'\n",
      " * Debug mode: off\n"
     ]
    },
    {
     "name": "stderr",
     "output_type": "stream",
     "text": [
      "\u001b[31m\u001b[1mWARNING: This is a development server. Do not use it in a production deployment. Use a production WSGI server instead.\u001b[0m\n",
      " * Running on all addresses (0.0.0.0)\n",
      " * Running on http://127.0.0.1:10000\n",
      " * Running on http://192.168.1.130:10000\n",
      "\u001b[33mPress CTRL+C to quit\u001b[0m\n",
      "192.168.1.130 - - [17/Mar/2024 20:40:12] \"POST /inference HTTP/1.1\" 200 -\n",
      "192.168.1.130 - - [17/Mar/2024 20:48:14] \"POST /inference HTTP/1.1\" 200 -\n",
      "192.168.1.130 - - [17/Mar/2024 20:48:17] \"POST /inference HTTP/1.1\" 200 -\n",
      "192.168.1.130 - - [17/Mar/2024 20:48:19] \"POST /inference HTTP/1.1\" 200 -\n",
      "192.168.1.130 - - [17/Mar/2024 20:48:20] \"POST /inference HTTP/1.1\" 200 -\n",
      "192.168.1.130 - - [17/Mar/2024 20:48:52] \"POST /inference HTTP/1.1\" 200 -\n",
      "192.168.1.130 - - [17/Mar/2024 20:48:57] \"POST /inference HTTP/1.1\" 200 -\n",
      "192.168.1.130 - - [17/Mar/2024 20:49:18] \"POST /inference HTTP/1.1\" 200 -\n",
      "192.168.1.130 - - [17/Mar/2024 20:49:37] \"POST /inference HTTP/1.1\" 200 -\n",
      "192.168.1.130 - - [17/Mar/2024 20:49:48] \"POST /inference HTTP/1.1\" 200 -\n",
      "192.168.1.130 - - [17/Mar/2024 20:49:50] \"POST /inference HTTP/1.1\" 200 -\n",
      "192.168.1.130 - - [17/Mar/2024 20:49:53] \"POST /inference HTTP/1.1\" 200 -\n",
      "192.168.1.130 - - [17/Mar/2024 20:49:55] \"POST /inference HTTP/1.1\" 200 -\n",
      "192.168.1.130 - - [17/Mar/2024 20:49:57] \"POST /inference HTTP/1.1\" 200 -\n",
      "192.168.1.130 - - [17/Mar/2024 20:50:00] \"POST /inference HTTP/1.1\" 200 -\n",
      "192.168.1.130 - - [17/Mar/2024 20:50:29] \"POST /inference HTTP/1.1\" 200 -\n"
     ]
    }
   ],
   "source": [
    "#Flask Server\n",
    "from flask import Flask, request\n",
    "import threading\n",
    "import pickle\n",
    "import torch\n",
    "import matplotlib.pyplot as plt\n",
    "\n",
    "app = Flask(__name__)\n",
    "\n",
    "@app.route('/inference', methods=['POST'])\n",
    "def inference():\n",
    "    # Deserialize the model and data\n",
    "    backend_model = pickle.loads(request.files['model'].read())\n",
    "    data = pickle.loads(request.files['data'].read())\n",
    "\n",
    "    # Run the inference\n",
    "    results = backend_model(data)\n",
    "\n",
    "    # Serialize the results and send them back to the client\n",
    "    return pickle.dumps(results)\n",
    "\n",
    "# Run the server in a separate thread\n",
    "def run_server():\n",
    "    app.run(host='0.0.0.0', port=10000)\n",
    "\n",
    "server_thread = threading.Thread(target=run_server)\n",
    "server_thread.start()\n",
    "\n",
    "#Note that if your port is already in use, you can either change the port number or use lsof -i :{port_number} to find the process and use kill -9 {process_id} to kill it.\n",
    "#Also, if you are rerunning the server, you may need to restart the kernel to free up the port."
   ]
  }
 ],
 "metadata": {
  "kernelspec": {
   "display_name": ".venv",
   "language": "python",
   "name": "python3"
  },
  "language_info": {
   "codemirror_mode": {
    "name": "ipython",
    "version": 3
   },
   "file_extension": ".py",
   "mimetype": "text/x-python",
   "name": "python",
   "nbconvert_exporter": "python",
   "pygments_lexer": "ipython3",
   "version": "3.12.2"
  }
 },
 "nbformat": 4,
 "nbformat_minor": 2
}
